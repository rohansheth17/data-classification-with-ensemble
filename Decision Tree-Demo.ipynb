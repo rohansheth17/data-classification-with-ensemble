{
 "cells": [
  {
   "cell_type": "code",
   "execution_count": 1,
   "metadata": {},
   "outputs": [],
   "source": [
    "data = [line.strip().split('\\t') for line in open('project3_dataset4.txt', 'r')]"
   ]
  },
  {
   "cell_type": "code",
   "execution_count": 2,
   "metadata": {},
   "outputs": [
    {
     "name": "stdout",
     "output_type": "stream",
     "text": [
      "[['sunny' 'hot' 'high' 'weak' '0']\n",
      " ['sunny' 'hot' 'high' 'strong' '0']\n",
      " ['overcast' 'hot' 'high' 'weak' '1']\n",
      " ['rain' 'mild' 'high' 'weak' '1']\n",
      " ['rain' 'cool' 'normal' 'weak' '1']\n",
      " ['rain' 'cool' 'normal' 'strong' '0']\n",
      " ['overcast' 'cool' 'normal' 'strong' '1']\n",
      " ['sunny' 'mild' 'high' 'weak' '0']\n",
      " ['sunny' 'cool' 'normal' 'weak' '1']\n",
      " ['rain' 'mild' 'normal' 'weak' '1']\n",
      " ['sunny' 'mild' 'normal' 'strong' '1']\n",
      " ['overcast' 'mild' 'high' 'strong' '1']\n",
      " ['overcast' 'hot' 'normal' 'weak' '1']\n",
      " ['rain' 'mild' 'high' 'strong' '0']]\n",
      "[[0]\n",
      " [0]\n",
      " [1]\n",
      " [1]\n",
      " [1]\n",
      " [0]\n",
      " [1]\n",
      " [0]\n",
      " [1]\n",
      " [1]\n",
      " [1]\n",
      " [1]\n",
      " [1]\n",
      " [0]]\n",
      "[['sunny' 'hot' 'high' 'weak']\n",
      " ['sunny' 'hot' 'high' 'strong']\n",
      " ['overcast' 'hot' 'high' 'weak']\n",
      " ['rain' 'mild' 'high' 'weak']\n",
      " ['rain' 'cool' 'normal' 'weak']\n",
      " ['rain' 'cool' 'normal' 'strong']\n",
      " ['overcast' 'cool' 'normal' 'strong']\n",
      " ['sunny' 'mild' 'high' 'weak']\n",
      " ['sunny' 'cool' 'normal' 'weak']\n",
      " ['rain' 'mild' 'normal' 'weak']\n",
      " ['sunny' 'mild' 'normal' 'strong']\n",
      " ['overcast' 'mild' 'high' 'strong']\n",
      " ['overcast' 'hot' 'normal' 'weak']\n",
      " ['rain' 'mild' 'high' 'strong']]\n",
      "[[0. 0. 1. 0. 1. 0. 1. 0. 0. 1.]\n",
      " [0. 0. 1. 0. 1. 0. 1. 0. 1. 0.]\n",
      " [1. 0. 0. 0. 1. 0. 1. 0. 0. 1.]\n",
      " [0. 1. 0. 0. 0. 1. 1. 0. 0. 1.]\n",
      " [0. 1. 0. 1. 0. 0. 0. 1. 0. 1.]\n",
      " [0. 1. 0. 1. 0. 0. 0. 1. 1. 0.]\n",
      " [1. 0. 0. 1. 0. 0. 0. 1. 1. 0.]\n",
      " [0. 0. 1. 0. 0. 1. 1. 0. 0. 1.]\n",
      " [0. 0. 1. 1. 0. 0. 0. 1. 0. 1.]\n",
      " [0. 1. 0. 0. 0. 1. 0. 1. 0. 1.]\n",
      " [0. 0. 1. 0. 0. 1. 0. 1. 1. 0.]\n",
      " [1. 0. 0. 0. 0. 1. 1. 0. 1. 0.]\n",
      " [1. 0. 0. 0. 1. 0. 0. 1. 0. 1.]\n",
      " [0. 1. 0. 0. 0. 1. 1. 0. 1. 0.]]\n"
     ]
    }
   ],
   "source": [
    "import numpy as np\n",
    "import math\n",
    "from sklearn import preprocessing\n",
    "data = np.asarray(data)\n",
    "print(data)\n",
    "classlabels = data[:,-1].reshape((data.shape[0],1)).astype(int)\n",
    "data = data[:,0:-1]\n",
    "print(classlabels)\n",
    "print(data)\n",
    "\n",
    "\n",
    "\n",
    "enc = preprocessing.OneHotEncoder()\n",
    "enc.fit(data)\n",
    "data = enc.transform(data).toarray()\n",
    "print(data)"
   ]
  },
  {
   "cell_type": "code",
   "execution_count": 3,
   "metadata": {},
   "outputs": [],
   "source": [
    "def is_categorical(s):\n",
    "    try:\n",
    "        float(s)\n",
    "    except ValueError:\n",
    "        return True\n",
    "    return False\n",
    "\n",
    "\n",
    "def evaluate(actual, predicted):\n",
    "    # a=TP, b= FN, c=FP, d= TN\n",
    "    a = b = c = d = 0\n",
    "    for i in range(len(actual)):\n",
    "        if(actual[i] == 1 and predicted[i] == 1):\n",
    "            a += 1\n",
    "        elif(actual[i] == 1 and predicted[i] == 0):\n",
    "            b += 1\n",
    "        elif(actual[i] == 0 and predicted[i] == 1):\n",
    "            c += 1\n",
    "        elif(actual[i] == 0 and predicted[i] == 0):\n",
    "            d += 1\n",
    "    return a, b, c, d"
   ]
  },
  {
   "cell_type": "code",
   "execution_count": 4,
   "metadata": {},
   "outputs": [
    {
     "name": "stdout",
     "output_type": "stream",
     "text": [
      "[[0. 0. 1. 0. 1. 0. 1. 0. 0. 1. 0.]\n",
      " [0. 0. 1. 0. 1. 0. 1. 0. 1. 0. 0.]\n",
      " [1. 0. 0. 0. 1. 0. 1. 0. 0. 1. 1.]\n",
      " [0. 1. 0. 0. 0. 1. 1. 0. 0. 1. 1.]\n",
      " [0. 1. 0. 1. 0. 0. 0. 1. 0. 1. 1.]\n",
      " [0. 1. 0. 1. 0. 0. 0. 1. 1. 0. 0.]\n",
      " [1. 0. 0. 1. 0. 0. 0. 1. 1. 0. 1.]\n",
      " [0. 0. 1. 0. 0. 1. 1. 0. 0. 1. 0.]\n",
      " [0. 0. 1. 1. 0. 0. 0. 1. 0. 1. 1.]\n",
      " [0. 1. 0. 0. 0. 1. 0. 1. 0. 1. 1.]\n",
      " [0. 0. 1. 0. 0. 1. 0. 1. 1. 0. 1.]\n",
      " [1. 0. 0. 0. 0. 1. 1. 0. 1. 0. 1.]\n",
      " [1. 0. 0. 0. 1. 0. 0. 1. 0. 1. 1.]\n",
      " [0. 1. 0. 0. 0. 1. 1. 0. 1. 0. 0.]]\n"
     ]
    }
   ],
   "source": [
    "# strindex = []\n",
    "# for i in range(len(data[0])):\n",
    "#     if(is_categorical(data[0][i])):\n",
    "#         print(data[0][i])\n",
    "#         print(i)\n",
    "#         strindex.append(i)\n",
    "# for i in strindex:\n",
    "#     unique_vals = np.unique(data[:,i])\n",
    "#     mapping = list(range(len(unique_vals)))\n",
    "#     dictionary = dict(zip(unique_vals, mapping))\n",
    "#     for j in range(len(data[:,i])):\n",
    "#         data[j][i] = dictionary.get(data[j][i])\n",
    "\n",
    "data = data.astype(float)\n",
    "data = np.append(data,classlabels,axis=1)\n",
    "print(data)"
   ]
  },
  {
   "cell_type": "code",
   "execution_count": 5,
   "metadata": {},
   "outputs": [
    {
     "name": "stdout",
     "output_type": "stream",
     "text": [
      "(14, 11)\n"
     ]
    }
   ],
   "source": [
    "print(data.shape)"
   ]
  },
  {
   "cell_type": "code",
   "execution_count": 6,
   "metadata": {},
   "outputs": [],
   "source": [
    "def calculate_gini(left, right):\n",
    "    prob_left0 = prob_left1 = prob_right0 = prob_right1 = 0\n",
    "    l = len(left)\n",
    "    r = len(right)\n",
    "    total = l + r\n",
    "    if(l != 0):\n",
    "        prob_left0 = float(list(left[:,-1]).count(0)) / l\n",
    "        prob_left1 = float(list(left[:,-1]).count(1)) / l\n",
    "    if(r != 0):\n",
    "        prob_right0 = float(list(right[:,-1]).count(0)) / r\n",
    "        prob_right1 = float(list(right[:,-1]).count(1)) / r\n",
    "    \n",
    "    gini_left = 1.0 - ((prob_left0 ** 2) + (prob_left1 ** 2))\n",
    "    gini_right = 1.0 - ((prob_right0 ** 2) + (prob_right1 ** 2))\n",
    "    \n",
    "    gini = float((gini_left * l) + (gini_right * r)) / total\n",
    "    return gini\n"
   ]
  },
  {
   "cell_type": "code",
   "execution_count": 7,
   "metadata": {},
   "outputs": [],
   "source": [
    "def split_data(data,j,splitval):\n",
    "    left = []\n",
    "    right = []\n",
    "    for i in range(len(data)):\n",
    "        if(data[i][j] < splitval):\n",
    "            left.append(data[i])\n",
    "        else:\n",
    "            right.append(data[i])\n",
    "    left = np.asarray(left)\n",
    "    right = np.asarray(right)\n",
    "    return left, right"
   ]
  },
  {
   "cell_type": "code",
   "execution_count": 15,
   "metadata": {},
   "outputs": [],
   "source": [
    "def node_to_split(data):\n",
    "    min = float('inf')\n",
    "    node = dict()\n",
    "    flag=0\n",
    "    for j in range(len(data[0])-1):\n",
    "        if(splitted[j]!=1):\n",
    "            for i in range(len(data)):\n",
    "                left, right = split_data(data,j,data[i][j])\n",
    "                gini = calculate_gini(left, right)\n",
    "                if(gini < min):\n",
    "                    min = gini\n",
    "                    node['left'] = left\n",
    "                    node['right'] = right\n",
    "                    node['gini'] = min\n",
    "                    node['split_id'] = i\n",
    "                    node['splitval'] = data[i][j]\n",
    "#                     print(\"i:\",i,\" j: \",j,\" dta[i][j]: \",data[i][j])\n",
    "                    node['split_feat'] = j\n",
    "                    splitj = j\n",
    "                    flag=1\n",
    "                    \n",
    "    if(flag==1):\n",
    "        splitted[splitj] = 1\n",
    "#     print(\"i:\",i,\" j: \",j,\" dta[i][j]: \",data[i][j])    \n",
    "    return node\n",
    "\n",
    "\n",
    "def node_label(left, right):\n",
    "    num0s = 0\n",
    "    num1s = 0;\n",
    "    if(len(left) != 0):\n",
    "        num0s += list(left[:,-1]).count(0)\n",
    "        num1s += list(left[:,-1]).count(1)\n",
    "    if(len(right) != 0):\n",
    "        num0s += list(right[:,-1]).count(0)\n",
    "        num1s += list(right[:,-1]).count(1)\n",
    "    return 1 if(num1s > num0s) else 0\n",
    "\n",
    "\n",
    "def is_sameclass(data):\n",
    "    unique_labels = np.unique(data[:,-1])\n",
    "    if(len(unique_labels) == 1):\n",
    "        return True\n",
    "    return False\n"
   ]
  },
  {
   "cell_type": "code",
   "execution_count": 10,
   "metadata": {},
   "outputs": [],
   "source": [
    "def build_tree(node):\n",
    "    left = node['left']\n",
    "    right = node['right']\n",
    "    del(node['left'])\n",
    "    del(node['right'])\n",
    "\n",
    "    if(len(left) == 0 or len(right) == 0):\n",
    "        node['left'] = node['right'] = node_label(left, right)\n",
    "        return node \n",
    "#     if((left.size==0) or (right.size==0)):\n",
    "#         classes = list()\n",
    "#         if(left.size==0):\n",
    "#             classes = right[:,-1]  \n",
    "#         else:\n",
    "#             classes = left[:,-1]\n",
    "            \n",
    "#         node['left'] = node['right'] = max(np.unique(classes), key = list(classes).count)\n",
    "#         return node\n",
    "\n",
    "    if(len(left) > 0):\n",
    "        if(is_sameclass(left)):\n",
    "            node['left'] = node_label(left, [])\n",
    "        else:\n",
    "            node['left'] = build_tree(node_to_split(left))\n",
    "    if(len(right) > 0):\n",
    "        if(is_sameclass(right)):\n",
    "            node['right'] = node_label([], right)\n",
    "        else:\n",
    "            node['right'] = build_tree(node_to_split(right))        \n",
    "    return node\n",
    "\n",
    "    \n",
    "\n",
    "        \n"
   ]
  },
  {
   "cell_type": "code",
   "execution_count": 17,
   "metadata": {},
   "outputs": [],
   "source": [
    "def print_tree(rootnode):\n",
    "    print(rootnode['gini'])\n",
    "    print(rootnode['split_id'])\n",
    "    print(rootnode['split_feat'])\n",
    "    print(rootnode['left'])\n",
    "    print(\"=====================================================\")\n",
    "    print(rootnode['right'])"
   ]
  },
  {
   "cell_type": "code",
   "execution_count": 12,
   "metadata": {},
   "outputs": [],
   "source": [
    "def classify(node, test_point):\n",
    "#     if(test_point[node['split_feat']] < node['splitval']):\n",
    "#         if(node['left'] == 0 or node['left'] == 1):\n",
    "#             return node['left']                                 \n",
    "#         else:\n",
    "#             return classify(node['left'], test_point)\n",
    "#     else:\n",
    "#         if(node['right'] == 0 or node['right'] == 1):\n",
    "#             return node['right']\n",
    "#         else:\n",
    "#             return classify(node['right'], test_point)\n",
    "\n",
    "    if(test_point[node['split_feat']] < node['splitval']):\n",
    "        if isinstance(node['left'], dict):\n",
    "            return classify(node['left'], test_point)\n",
    "        else:\n",
    "            return node['left']\n",
    "    else:\n",
    "        if isinstance(node['right'], dict):\n",
    "            return classify(node['right'], test_point)\n",
    "        else:\n",
    "            return node['right']\n",
    "   "
   ]
  },
  {
   "cell_type": "code",
   "execution_count": 13,
   "metadata": {},
   "outputs": [],
   "source": [
    "def split(kfoldlist,index):\n",
    "    test = kfoldlist[index]\n",
    "    train = np.vstack([j for i,j in enumerate(kfoldlist) if i != index])\n",
    "    train = np.asarray(train)\n",
    "    test = np.asarray(test)\n",
    "    return train, test"
   ]
  },
  {
   "cell_type": "code",
   "execution_count": 16,
   "metadata": {},
   "outputs": [
    {
     "name": "stdout",
     "output_type": "stream",
     "text": [
      "0.35714285714285715\n",
      "2\n",
      "0\n",
      "{'gini': 0.31999999999999984, 'split_id': 0, 'splitval': 1.0, 'split_feat': 6, 'left': {'gini': 0.2, 'split_id': 1, 'splitval': 1.0, 'split_feat': 8, 'left': 1, 'right': {'gini': 0.0, 'split_id': 0, 'splitval': 1.0, 'split_feat': 1, 'left': 1, 'right': 0}}, 'right': {'gini': 0.2, 'split_id': 0, 'splitval': 1.0, 'split_feat': 2, 'left': {'gini': 0.0, 'split_id': 0, 'splitval': 1.0, 'split_feat': 9, 'left': 0, 'right': 1}, 'right': 0}}\n",
      "=====================================================\n",
      "1\n"
     ]
    }
   ],
   "source": [
    "# kfoldlist = np.array_split(data, 10)\n",
    "# accuracy = precision = recall = f_measure = 0\n",
    "\n",
    "train = data\n",
    "splitted = [0]*(len(data[0])-1)\n",
    "splitj = -1\n",
    "rootnode = node_to_split(train)\n",
    "rootnode = build_tree(rootnode)\n",
    "print_tree(rootnode)\n",
    "\n",
    "# for i in range(len(kfoldlist)):\n",
    "#     train, test = split(kfoldlist,i)\n",
    "#     test_labels = []\n",
    "#     splitted = [0]*(len(data[0])-1)\n",
    "#     splitj = -1\n",
    "#     rootnode = node_to_split(train)\n",
    "#     rootnode = build_tree(rootnode)\n",
    "#     print_tree(rootnode)\n",
    "#     for j in range(len(test)):\n",
    "#         test_labels.append(classify(root,test[j]))\n",
    "#     test_labels = np.asarray(test_labels)\n",
    "#     a, b, c, d = evaluate(test[:,-1], test_labels)\n",
    "#     accuracy += float(a + d)/(a + b + c + d)\n",
    "# print(\"Accuracy: \",accuracy*10,\"%\")\n"
   ]
  },
  {
   "cell_type": "code",
   "execution_count": null,
   "metadata": {},
   "outputs": [],
   "source": []
  },
  {
   "cell_type": "code",
   "execution_count": null,
   "metadata": {},
   "outputs": [],
   "source": []
  }
 ],
 "metadata": {
  "kernelspec": {
   "display_name": "Python 3",
   "language": "python",
   "name": "python3"
  },
  "language_info": {
   "codemirror_mode": {
    "name": "ipython",
    "version": 3
   },
   "file_extension": ".py",
   "mimetype": "text/x-python",
   "name": "python",
   "nbconvert_exporter": "python",
   "pygments_lexer": "ipython3",
   "version": "3.6.8"
  }
 },
 "nbformat": 4,
 "nbformat_minor": 2
}
