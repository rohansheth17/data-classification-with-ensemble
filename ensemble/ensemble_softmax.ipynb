{
 "cells": [
  {
   "cell_type": "markdown",
   "metadata": {},
   "source": [
    "## Load MNIST on Python 3.x"
   ]
  },
  {
   "cell_type": "code",
   "execution_count": 1,
   "metadata": {},
   "outputs": [],
   "source": [
    "import pickle\n",
    "import gzip\n",
    "import numpy as np"
   ]
  },
  {
   "cell_type": "code",
   "execution_count": 2,
   "metadata": {},
   "outputs": [
    {
     "name": "stdout",
     "output_type": "stream",
     "text": [
      "3\n"
     ]
    }
   ],
   "source": [
    "filename = 'mnist.pkl.gz'\n",
    "f1 = gzip.open(filename, 'rb')\n",
    "training_data, validation_data, test_data = pickle.load(f1, encoding='latin1')\n",
    "f1.close()\n",
    "\n",
    "f2 = gzip.open(filename, 'rb')\n",
    "data = pickle.load(f2, encoding='latin1')\n",
    "f2.close()\n",
    "\n",
    "train_X = np.array(training_data[0])\n",
    "train_t = np.array(training_data[1])\n",
    "val_X = np.array(validation_data[0])\n",
    "val_t = np.array(validation_data[1])\n",
    "test_X = np.array(test_data[0])\n",
    "test_t = np.array(test_data[1])\n",
    "train_data = []\n",
    "training_t = []\n",
    "val_data = []\n",
    "val_t = []\n",
    "testing_data = []\n",
    "testing_t = []\n",
    "train_data = train_X\n",
    "training_t = train_t\n",
    "val_data = val_X\n",
    "val_t = val_t\n",
    "testing_data = test_X\n",
    "testing_t = test_t\n",
    "\n",
    "# print (tr_target)\n",
    "# print(train_data)\n",
    "# print(training_t)\n",
    "# print (train_data.shape)\n",
    "# print (training_t.shape)\n",
    "#print (len(data))\n",
    "# print (validation_data.shape)\n",
    "# print (test_data.shape)"
   ]
  },
  {
   "cell_type": "markdown",
   "metadata": {},
   "source": [
    "## Load USPS on Python 3.x"
   ]
  },
  {
   "cell_type": "code",
   "execution_count": 3,
   "metadata": {},
   "outputs": [],
   "source": [
    "from PIL import Image\n",
    "import os\n",
    "import numpy as np"
   ]
  },
  {
   "cell_type": "code",
   "execution_count": 4,
   "metadata": {},
   "outputs": [
    {
     "name": "stdout",
     "output_type": "stream",
     "text": [
      "0\n"
     ]
    }
   ],
   "source": [
    "USPSMat  = []\n",
    "USPSTar  = []\n",
    "curPath  = 'USPSdata/Numerals'\n",
    "savedImg = []\n",
    "\n",
    "for j in range(0,10):\n",
    "    curFolderPath = curPath + '/' + str(j)\n",
    "    imgs =  os.listdir(curFolderPath)\n",
    "    for img in imgs:\n",
    "        curImg = curFolderPath + '/' + img\n",
    "        if curImg[-3:] == 'png':\n",
    "            img = Image.open(curImg,'r')\n",
    "            img = img.resize((28, 28))\n",
    "            savedImg = img\n",
    "            imgdata = (255-np.array(img.getdata()))/255\n",
    "            USPSMat.append(imgdata)\n",
    "            USPSTar.append(j)\n",
    "            \n",
    "head, *tail = USPSTar\n",
    "print(head)\n",
    "# print(USPSMat[1])\n",
    "# print(USPSTar[138])\n"
   ]
  },
  {
   "cell_type": "code",
   "execution_count": 7,
   "metadata": {},
   "outputs": [],
   "source": [
    "USPSTest = np.array(USPSMat)\n",
    "USPSTar = np.array(USPSTar)"
   ]
  },
  {
   "cell_type": "code",
   "execution_count": 5,
   "metadata": {},
   "outputs": [
    {
     "name": "stderr",
     "output_type": "stream",
     "text": [
      "Using TensorFlow backend.\n"
     ]
    }
   ],
   "source": [
    "# Neural Network\n",
    "import keras\n",
    "from keras.datasets import mnist\n",
    "from keras.layers import Dense\n",
    "from keras.models import Sequential\n",
    "from sklearn.neural_network import MLPClassifier\n",
    "from sklearn.datasets import fetch_mldata\n",
    "import numpy as np\n",
    "from sklearn import datasets, svm, metrics"
   ]
  },
  {
   "cell_type": "code",
   "execution_count": 6,
   "metadata": {},
   "outputs": [],
   "source": [
    "(x_train, y_train), (x_test, y_test) = mnist.load_data()\n",
    "num_classes=10\n",
    "image_vector_size=28*28\n",
    "x_train = x_train.reshape(x_train.shape[0], image_vector_size)\n",
    "x_test = x_test.reshape(x_test.shape[0], image_vector_size)\n",
    "y_train = keras.utils.to_categorical(y_train, num_classes)\n",
    "y_test = keras.utils.to_categorical(y_test, num_classes)\n",
    "image_size = 784 \n",
    "model = Sequential()\n",
    "model.add(Dense(units=32, activation='sigmoid', input_shape=(image_size,)))\n",
    "model.add(Dense(units=num_classes, activation='softmax'))\n",
    "model.compile(optimizer='sgd', loss='categorical_crossentropy',metrics=['accuracy'])\n",
    "history = model.fit(x_train, y_train, batch_size=128, epochs=10,\n",
    "verbose=False,validation_split=.1)\n",
    "loss,accuracy = model.evaluate(x_test, y_test, verbose=False) "
   ]
  },
  {
   "cell_type": "code",
   "execution_count": 8,
   "metadata": {},
   "outputs": [
    {
     "name": "stdout",
     "output_type": "stream",
     "text": [
      "0.38080972957611087\n",
      "0.9034\n"
     ]
    }
   ],
   "source": [
    "USPS_x_test = USPSTest.reshape(USPSTest.shape[0], image_vector_size)\n",
    "USPS_y_test = keras.utils.to_categorical(USPSTar, num_classes)\n",
    "print (loss)\n",
    "print (accuracy)"
   ]
  },
  {
   "cell_type": "code",
   "execution_count": 39,
   "metadata": {},
   "outputs": [
    {
     "data": {
      "image/png": "[encoded data removed]",
      "text/plain": [
       "<Figure size 432x288 with 1 Axes>"
      ]
     },
     "metadata": {
      "needs_background": "light"
     },
     "output_type": "display_data"
    },
    {
     "data": {
      "text/plain": [
       "<Figure size 432x288 with 0 Axes>"
      ]
     },
     "metadata": {},
     "output_type": "display_data"
    }
   ],
   "source": [
    "import matplotlib.pyplot as plt\n",
    "plt.plot(history.history['acc'])\n",
    "plt.plot(history.history['val_acc'])\n",
    "plt.title('Accuracy of the model')\n",
    "plt.ylabel('Accuracy')\n",
    "plt.xlabel('Epoch')\n",
    "plt.legend(['training', 'testing'], loc='best')\n",
    "plt.show()\n",
    "plt.savefig('img.png')"
   ]
  },
  {
   "cell_type": "code",
   "execution_count": 12,
   "metadata": {},
   "outputs": [
    {
     "name": "stdout",
     "output_type": "stream",
     "text": [
      "Testing  Accuracy:  0.9034\n",
      "USPS Accuracy:  0.312165608280414\n"
     ]
    }
   ],
   "source": [
    "loss1,accuracy1 = model.evaluate(x_test, y_test, verbose=False)\n",
    "loss1,accuracy2 = model.evaluate(USPS_x_test, USPS_y_test, verbose=False)\n",
    "print ('Testing  Accuracy: ',accuracy1)\n",
    "print ('USPS Accuracy: ',accuracy2)"
   ]
  },
  {
   "cell_type": "code",
   "execution_count": 13,
   "metadata": {},
   "outputs": [
    {
     "name": "stderr",
     "output_type": "stream",
     "text": [
      "C:\\Users\\rohan\\Anaconda3\\lib\\site-packages\\sklearn\\utils\\deprecation.py:77: DeprecationWarning: Function fetch_mldata is deprecated; fetch_mldata was deprecated in version 0.20 and will be removed in version 0.22\n",
      "  warnings.warn(msg, category=DeprecationWarning)\n",
      "C:\\Users\\rohan\\Anaconda3\\lib\\site-packages\\sklearn\\utils\\deprecation.py:77: DeprecationWarning: Function mldata_filename is deprecated; mldata_filename was deprecated in version 0.20 and will be removed in version 0.22\n",
      "  warnings.warn(msg, category=DeprecationWarning)\n"
     ]
    }
   ],
   "source": [
    "mnist = fetch_mldata('MNIST original')\n",
    "train_data = 60000\n",
    "test_data = 10000\n",
    "indices = np.arange(len(mnist.data))\n",
    "train_idx = np.arange(0,train_data)\n",
    "test_idx = np.arange(train_data + 1 , train_data + test_data)"
   ]
  },
  {
   "cell_type": "code",
   "execution_count": 14,
   "metadata": {},
   "outputs": [],
   "source": [
    "X_train, Y_train = mnist.data[train_idx], mnist.target[train_idx]\n",
    "X_test, Y_test = mnist.data[test_idx], mnist.target[test_idx]"
   ]
  },
  {
   "cell_type": "code",
   "execution_count": 15,
   "metadata": {},
   "outputs": [
    {
     "name": "stderr",
     "output_type": "stream",
     "text": [
      "C:\\Users\\rohan\\Anaconda3\\lib\\site-packages\\sklearn\\neural_network\\multilayer_perceptron.py:562: ConvergenceWarning: Stochastic Optimizer: Maximum iterations (200) reached and the optimization hasn't converged yet.\n",
      "  % self.max_iter, ConvergenceWarning)\n"
     ]
    },
    {
     "data": {
      "text/plain": [
       "MLPClassifier(activation='logistic', alpha=0.0001, batch_size='auto',\n",
       "       beta_1=0.9, beta_2=0.999, early_stopping=False, epsilon=1e-08,\n",
       "       hidden_layer_sizes=(45, 90), learning_rate='constant',\n",
       "       learning_rate_init=0.001, max_iter=200, momentum=0.9,\n",
       "       n_iter_no_change=10, nesterovs_momentum=True, power_t=0.5,\n",
       "       random_state=1, shuffle=True, solver='sgd', tol=0.0001,\n",
       "       validation_fraction=0.1, verbose=False, warm_start=False)"
      ]
     },
     "execution_count": 15,
     "metadata": {},
     "output_type": "execute_result"
    }
   ],
   "source": [
    "nn=MLPClassifier(activation='logistic',solver='sgd',hidden_layer_sizes=(45,90),random_state=1)\n",
    "nn.fit(X_train,Y_train)"
   ]
  },
  {
   "cell_type": "code",
   "execution_count": 16,
   "metadata": {},
   "outputs": [
    {
     "name": "stdout",
     "output_type": "stream",
     "text": [
      "0.9522952295229523\n",
      "0.9748166666666667\n",
      "Confusion matrix:\n",
      "[[ 957    0    3    1    0    6    4    5    3    0]\n",
      " [   0 1120    1    4    0    2    3    1    4    0]\n",
      " [   9    2  989    7    4    1    6    6    6    2]\n",
      " [   1    0   15  962    1   17    0    8    2    4]\n",
      " [   4    1    5    1  930    1   10    2    3   25]\n",
      " [   6    2    3   31    5  824    5    1    9    6]\n",
      " [  12    2    4    0    3    7  923    1    6    0]\n",
      " [   3    4   19    9    2    2    0  975    0   14]\n",
      " [   5    5    8   12    6   13    8    6  904    7]\n",
      " [   5    3    2   11   25    7    2   12    4  938]]\n",
      "Accuracy=0.9522952295229523\n"
     ]
    }
   ],
   "source": [
    "pred=nn.predict(X_test)\n",
    "print (nn.score(X_test, Y_test))\n",
    "print (nn.score(X_train, Y_train))\n",
    "expected = Y_test\n",
    "predicted = pred\n",
    "\n",
    "cm = metrics.confusion_matrix(expected, predicted)\n",
    "print(\"Confusion matrix:\\n%s\" % cm)\n",
    "print(\"Accuracy={}\".format(metrics.accuracy_score(expected, predicted)))\n"
   ]
  },
  {
   "cell_type": "code",
   "execution_count": 18,
   "metadata": {},
   "outputs": [
    {
     "name": "stdout",
     "output_type": "stream",
     "text": [
      "0.29816490824541225\n",
      "Confusion matrix:\n",
      "[[ 267    0  115  118   43  414   10  967    3   63]\n",
      " [   7  118  452  209    4  283    1  917    8    1]\n",
      " [  12   11 1283  228    6  315    8  136    0    0]\n",
      " [   4    2  140 1340    0  387    0  124    1    2]\n",
      " [  18   33   86   55  371  290    8 1082    7   50]\n",
      " [  20   13  172  399    4 1220    5  164    1    2]\n",
      " [  61    7  903  126   32  483  238  146    0    4]\n",
      " [   5   19  107  572    1  222    0 1071    0    3]\n",
      " [  19   15  293  341    8  894   20  395   13    2]\n",
      " [   4   43   84  428   10  106    0 1266   17   42]]\n"
     ]
    }
   ],
   "source": [
    "pred1=nn.predict(USPSTest)\n",
    "print (nn.score(USPSTest, USPSTar))\n",
    "#print (nn.score(X_train, Y_train))\n",
    "expected1 = USPSTar\n",
    "predicted1 = pred1\n",
    "\n",
    "cm = metrics.confusion_matrix(expected1, predicted1)\n",
    "print(\"Confusion matrix:\\n%s\" % cm)\n",
    "#print(\"Accuracy={}\".format(metrics.accuracy_score(expected, predicted)))\n"
   ]
  },
  {
   "cell_type": "code",
   "execution_count": 19,
   "metadata": {},
   "outputs": [],
   "source": [
    "import numpy as np\n",
    "import pandas as pd\n",
    "import matplotlib.pyplot as plt\n",
    "from sklearn.ensemble import RandomForestClassifier, AdaBoostClassifier, VotingClassifier\n",
    "from sklearn.datasets import fetch_mldata\n",
    "from sklearn.svm import SVC \n",
    "from sklearn.neural_network import MLPClassifier\n",
    "from sklearn import datasets, svm, metrics"
   ]
  },
  {
   "cell_type": "code",
   "execution_count": 20,
   "metadata": {},
   "outputs": [
    {
     "data": {
      "text/plain": [
       "RandomForestClassifier(bootstrap=True, class_weight=None, criterion='gini',\n",
       "            max_depth=None, max_features='auto', max_leaf_nodes=None,\n",
       "            min_impurity_decrease=0.0, min_impurity_split=None,\n",
       "            min_samples_leaf=1, min_samples_split=2,\n",
       "            min_weight_fraction_leaf=0.0, n_estimators=100, n_jobs=None,\n",
       "            oob_score=False, random_state=None, verbose=0,\n",
       "            warm_start=False)"
      ]
     },
     "execution_count": 20,
     "metadata": {},
     "output_type": "execute_result"
    }
   ],
   "source": [
    "#RandomForestClassifier\n",
    "classifier2 = RandomForestClassifier(n_estimators=100)\n",
    "classifier2.fit(X_train, Y_train) "
   ]
  },
  {
   "cell_type": "code",
   "execution_count": 22,
   "metadata": {},
   "outputs": [
    {
     "name": "stdout",
     "output_type": "stream",
     "text": [
      "[0. 0. 0. ... 9. 9. 9.]\n",
      "[0. 0. 0. ... 9. 9. 9.]\n",
      "9695\n",
      "9999\n"
     ]
    }
   ],
   "source": [
    "s = Y_test\n",
    "print(s)\n",
    "count = 0\n",
    "pred = classifier2.predict(X_test)\n",
    "print (pred)\n",
    "for i in range (len(pred)):\n",
    "    if pred[i] == s[i]:\n",
    "        count = count + 1\n",
    "print (count)\n",
    "print (len(pred))\n"
   ]
  },
  {
   "cell_type": "code",
   "execution_count": 23,
   "metadata": {},
   "outputs": [
    {
     "data": {
      "text/plain": [
       "0.9695969596959696"
      ]
     },
     "execution_count": 23,
     "metadata": {},
     "output_type": "execute_result"
    }
   ],
   "source": [
    "9695/9999.0"
   ]
  },
  {
   "cell_type": "code",
   "execution_count": 24,
   "metadata": {},
   "outputs": [
    {
     "name": "stderr",
     "output_type": "stream",
     "text": [
      "C:\\Users\\rohan\\Anaconda3\\lib\\site-packages\\sklearn\\ensemble\\forest.py:248: FutureWarning: The default value of n_estimators will change from 10 in version 0.20 to 100 in 0.22.\n",
      "  \"10 in version 0.20 to 100 in 0.22.\", FutureWarning)\n",
      "C:\\Users\\rohan\\Anaconda3\\lib\\site-packages\\sklearn\\ensemble\\forest.py:248: FutureWarning: The default value of n_estimators will change from 10 in version 0.20 to 100 in 0.22.\n",
      "  \"10 in version 0.20 to 100 in 0.22.\", FutureWarning)\n",
      "C:\\Users\\rohan\\Anaconda3\\lib\\site-packages\\sklearn\\ensemble\\forest.py:248: FutureWarning: The default value of n_estimators will change from 10 in version 0.20 to 100 in 0.22.\n",
      "  \"10 in version 0.20 to 100 in 0.22.\", FutureWarning)\n",
      "C:\\Users\\rohan\\Anaconda3\\lib\\site-packages\\sklearn\\ensemble\\forest.py:248: FutureWarning: The default value of n_estimators will change from 10 in version 0.20 to 100 in 0.22.\n",
      "  \"10 in version 0.20 to 100 in 0.22.\", FutureWarning)\n",
      "C:\\Users\\rohan\\Anaconda3\\lib\\site-packages\\sklearn\\ensemble\\forest.py:248: FutureWarning: The default value of n_estimators will change from 10 in version 0.20 to 100 in 0.22.\n",
      "  \"10 in version 0.20 to 100 in 0.22.\", FutureWarning)\n"
     ]
    },
    {
     "data": {
      "text/plain": [
       "AdaBoostClassifier(algorithm='SAMME.R',\n",
       "          base_estimator=RandomForestClassifier(bootstrap=True, class_weight=None, criterion='gini',\n",
       "            max_depth=None, max_features='auto', max_leaf_nodes=None,\n",
       "            min_impurity_decrease=0.0, min_impurity_split=None,\n",
       "            min_samples_leaf=1, min_samples_split=2,\n",
       "            min_weight_fraction_leaf=0.0, n_estimators='warn', n_jobs=None,\n",
       "            oob_score=False, random_state=None, verbose=0,\n",
       "            warm_start=False),\n",
       "          learning_rate=1, n_estimators=5, random_state=None)"
      ]
     },
     "execution_count": 24,
     "metadata": {},
     "output_type": "execute_result"
    }
   ],
   "source": [
    "#Boosting - Ada Boost\n",
    "\n",
    "adb = AdaBoostClassifier(RandomForestClassifier(),n_estimators = 5, learning_rate = 1)\n",
    "adb.fit(X_train,Y_train)"
   ]
  },
  {
   "cell_type": "code",
   "execution_count": 26,
   "metadata": {},
   "outputs": [
    {
     "name": "stdout",
     "output_type": "stream",
     "text": [
      "0.9572957295729573\n",
      "0.9999666666666667\n"
     ]
    }
   ],
   "source": [
    "print (adb.score(X_test,Y_test))\n",
    "print (adb.score(X_train,Y_train))"
   ]
  },
  {
   "cell_type": "code",
   "execution_count": 27,
   "metadata": {},
   "outputs": [
    {
     "name": "stdout",
     "output_type": "stream",
     "text": [
      "Confusion matrix:\n",
      "[[ 969    0    0    0    0    2    4    1    2    1]\n",
      " [   0 1124    1    4    0    1    2    0    2    1]\n",
      " [   7    0  999    4    3    0    4    9    6    0]\n",
      " [   0    0    9  973    0    8    0    9    8    3]\n",
      " [   1    0    2    0  959    0    5    0    2   13]\n",
      " [   5    0    0   16    2  854    6    2    5    2]\n",
      " [   5    3    0    0    5    3  938    0    4    0]\n",
      " [   1    4   20    3    1    0    0  986    2   11]\n",
      " [   2    0    6    9    5    7    3    3  932    7]\n",
      " [   8    5    2   10   10    2    1    4    6  961]]\n"
     ]
    }
   ],
   "source": [
    "expected = Y_test\n",
    "predicted = pred\n",
    "cm = metrics.confusion_matrix(expected, predicted)\n",
    "print(\"Confusion matrix:\\n%s\" % cm)"
   ]
  },
  {
   "cell_type": "code",
   "execution_count": 28,
   "metadata": {},
   "outputs": [
    {
     "name": "stdout",
     "output_type": "stream",
     "text": [
      "0.11605580279013951\n",
      "Confusion matrix:\n",
      "[[   0   81    1    0   16  196    0 1706    0    0]\n",
      " [   0  500    0    1    0   35    0 1464    0    0]\n",
      " [   0  305    2    1    4  163    0 1524    0    0]\n",
      " [   0   62    1    5    5  285    0 1642    0    0]\n",
      " [   0  135    0    0   11   55    0 1799    0    0]\n",
      " [   0  220    0    2    2  483    0 1293    0    0]\n",
      " [   0  124    0    1    5  361    0 1509    0    0]\n",
      " [   0  602    0    0    0   78    0 1320    0    0]\n",
      " [   0  195    1    3    5  669    0 1127    0    0]\n",
      " [   0  299    0    0    5   89    0 1607    0    0]]\n"
     ]
    }
   ],
   "source": [
    "pred2=classifier2.predict(USPSTest)\n",
    "print (classifier2.score(USPSTest, USPSTar))\n",
    "#print (nn.score(X_train, Y_train))\n",
    "expected2 = USPSTar\n",
    "predicted2 = pred2\n",
    "\n",
    "cm = metrics.confusion_matrix(expected2, predicted2)\n",
    "print(\"Confusion matrix:\\n%s\" % cm)"
   ]
  },
  {
   "cell_type": "code",
   "execution_count": null,
   "metadata": {},
   "outputs": [],
   "source": [
    "#SVM\n",
    "\n",
    "from sklearn.metrics import accuracy_score\n",
    "from sklearn.metrics import precision_recall_fscore_support as score\n",
    "from sklearn.metrics import confusion_matrix  \n",
    "from sklearn.metrics import classification_report \n",
    "import seaborn as sns\n",
    "\n",
    "X_train, y_train = train_X, train_t\n",
    "X_test, y_test = test_X, test_t\n",
    "classifier1_svc = SVC(kernel='rbf', C=2, gamma = 0.05);\n",
    "classifier1_svc.fit(X_train, y_train)\n",
    "predictedlabel = classifier1_svc.predict(X_test)\n",
    "accuracy_SVM = accuracy_score(y_test, predictedlabel)\n",
    "print(\"Mnist Test accuracy: \", accuracy_SVM)\n",
    "predictedlabel_usps = classifier1_svc.predict(USPSTest)\n",
    "accuracy_USPS=accuracy_score(USPSTar, predictedlabel_usps)\n",
    "print(\"USPS accuracy: \", accuracy_USPS)\n",
    "\n",
    "cm1 = metrics.confusion_matrix(y_test, predictedlabel)\n",
    "print(\"Confusion matrix:\\n%s\" % cm1)\n",
    "cm2 = metrics.confusion_matrix(USPSTar, predictedlabel_usps)\n",
    "print(\"Confusion matrix:\\n%s\" % cm2)\n",
    "'''\n",
    "Mnist Test accuracy: 0.9827\n",
    "USPS accuracy: 0.2614130706535327\n",
    "\n",
    "Confusion matrix:\n",
    "[[ 974    0    1    0    0    1    1    1    2    0]\n",
    " [   0 1128    3    1    0    1    0    1    1    0]\n",
    " [   4    0 1015    1    1    0    0    6    5    0]\n",
    " [   0    0    1  997    0    3    0    5    4    0]\n",
    " [   0    1    3    0  964    0    4    0    2    8]\n",
    " [   2    0    1    7    1  872    3    1    4    1]\n",
    " [   5    2    0    0    2    3  945    0    1    0]\n",
    " [   0    3    9    1    1    0    0 1004    2    8]\n",
    " [   2    0    1    6    1    2    0    2  958    2]\n",
    " [   4    4    2    8    7    2    0    6    6  970]]\n",
    "Confusion matrix:\n",
    "[[ 226    0 1564    2   26   35    2    0   79   66]\n",
    " [  78  257  713  172  262   77   12  337   88    4]\n",
    " [   8    0 1944    6    2   20    1    6   11    1]\n",
    " [   4    0 1193  725    0   41    0    0   37    0]\n",
    " [   6    0 1045   18  522   96    0   56  252    5]\n",
    " [  15    0 1305   16    1  626    0    0   37    0]\n",
    " [  78    0 1534    2   10   61  290    0   22    3]\n",
    " [  17    6 1435  129    6  134    0  220   52    1]\n",
    " [   7    0 1387   14    4  221    0    0  367    0]\n",
    " [   1    0 1508   79   26   29    0   39  267   51]]\n",
    " '''\n",
    "\n",
    "classifier2_svc = SVC(kernel='linear');\n",
    "classifier2_svc.fit(X_train, y_train)\n",
    "predictedlabel = classifier2_svc.predict(X_test)\n",
    "accuracy_SVM = accuracy_score(y_test, predictedlabel)\n",
    "print(\"Mnist Test accuracy: \", accuracy_SVM)\n",
    "predictedlabel_usps = classifier2_svc.predict(USPSTest)\n",
    "accuracy_USPS=accuracy_score(USPSTar, predictedlabel_usps)\n",
    "print(\"USPS accuracy: \", accuracy_USPS)\n",
    "\n",
    "cm1 = metrics.confusion_matrix(y_test, predictedlabel)\n",
    "print(\"Confusion matrix:\\n%s\" % cm1)\n",
    "cm2 = metrics.confusion_matrix(USPSTar, predictedlabel_usps)\n",
    "print(\"Confusion matrix:\\n%s\" % cm2)\n",
    "'''\n",
    " Mnist Test accuracy: 0.9154\n",
    " USPS accuracy: 0.2605630281514076\n",
    "Confusion matrix:\n",
    " [[ 958    0    2    1    0    7    8    2    2    0]\n",
    " [   0 1113    4    1    0    1    4    1   11    0]\n",
    " [  10    9  912   22   11    4   12   10   39    3]\n",
    " [   5    2   20  915    3   20    5   12   19    9]\n",
    " [   1    3    5    3  914    0   10    3    6   37]\n",
    " [  10    3    1   38   11  761   20    8   31    9]\n",
    " [   9    4    6    2    6   20  908    1    2    0]\n",
    " [   2    9   21    6    6    1    1  945    4   33]\n",
    " [   8   13    8   23   13   39    8   15  834   13]\n",
    " [   6    8    2   15   35   10    0   26   13  894]]\n",
    "\n",
    "Confusion matrix:\n",
    "    \n",
    " [[ 313    1  381  311   59  174  115  486   59  101]\n",
    " [  44  279  664  159  354   99   29  279   72   21]\n",
    " [  70   46 1286  100   47  171  149   83   21   26]\n",
    " [  49   38  473  749   17  483   33   80   44   34]\n",
    " [  53   54  189  117  594  179   73  550  133   58]\n",
    " [  42   24  839  218   23  645   80   94   27    8]\n",
    " [  98   12  732  114   55  332  510   79   15   53]\n",
    " [ 127   87  231  534  115  150   25  607   85   39]\n",
    " [ 175   31  148  658  123  398  113  199  115   40]\n",
    " [  40   51  156  550  114   75   16  709  176  113]]\n",
    "'''   \n",
    "classifier3_svc = SVC(kernel='rbf');\n",
    "classifier3_svc.fit(X_train, y_train)\n",
    "predictedlabel = classifier3_svc.predict(X_test)\n",
    "accuracy_SVM = accuracy_score(y_test, predictedlabel)\n",
    "print(\"Mnist Test accuracy: \", accuracy_SVM)\n",
    "predictedlabel_usps = classifier3_svc.predict(USPSTest)\n",
    "accuracy_USPS=accuracy_score(USPSTar, predictedlabel_usps)\n",
    "print(\"USPS accuracy: \", accuracy_USPS)\n",
    "\n",
    "cm1 = metrics.confusion_matrix(y_test, predictedlabel)\n",
    "print(\"Confusion matrix:\\n%s\" % cm1)\n",
    "cm2 = metrics.confusion_matrix(USPSTar, predictedlabel_usps)\n",
    "print(\"Confusion matrix:\\n%s\" % cm2)\n",
    "'''\n",
    " Mnist Test accuracy: 0.9435 \n",
    " USPS accuracy: 0.38541927096354817\n",
    "\n",
    "Confusion matrix:\n",
    "[[ 967    0    1    0    0    5    4    1    2    0]\n",
    " [   0 1120    2    3    0    1    3    1    5    0]\n",
    " [   9    1  962    7   10    1   13   11   16    2]\n",
    " [   1    1   14  950    1   17    1   10   11    4]\n",
    " [   1    1    7    0  937    0    7    2    2   25]\n",
    " [   7    4    5   33    7  808   11    2   10    5]\n",
    " [  10    3    4    1    5   10  924    0    1    0]\n",
    " [   2   13   22    5    7    1    0  954    4   20]\n",
    " [   4    6    6   14    8   24   10    8  891    3]\n",
    " [  10    6    0   12   33    5    1   14    6  922]]\n",
    "\n",
    "Confusion matrix:\n",
    "\n",
    "[[ 573    2  428   19  285  248   73   44    6  322]\n",
    " [ 110  429  285  137  273  180   46  501   22   17]\n",
    " [ 128   18 1402   59   39  198   61   57   23   14]\n",
    " [  76    3  186 1123   11  483    5   70   27   16]\n",
    " [  18   67   91   14 1167  267   22  194   69   91]\n",
    " [ 108   17  257  102   25 1367   60   43   15    6]\n",
    " [ 197    7  489   24   98  394  748   13    7   23]\n",
    " [  50  225  457  265   57  416   15  452   41   22]\n",
    " [  73   25  209  193   87 1006   95   41  244   27]\n",
    " [  26  166  228  278  213  165    8  499  214  203]]\n",
    "\n",
    "'''\n",
    "\n"
   ]
  },
  {
   "cell_type": "code",
   "execution_count": null,
   "metadata": {},
   "outputs": [],
   "source": [
    "import numpy as np\n",
    "import pandas as pd\n",
    "import matplotlib.pyplot as plt\n",
    "from sklearn.ensemble import RandomForestClassifier, AdaBoostClassifier, VotingClassifier\n",
    "from sklearn.datasets import fetch_mldata\n",
    "from sklearn.svm import SVC \n",
    "from sklearn.neural_network import MLPClassifier\n",
    "from sklearn import datasets, svm, metrics\n",
    "\n",
    "\n",
    "classifier2 = RandomForestClassifier(n_estimators=100)\n",
    "classifier1 = SVC(kernel='linear')\n",
    "nn=MLPClassifier(activation='logistic',solver='sgd',hidden_layer_sizes=(45,90),random_state=1)\n",
    "\n",
    "evc = VotingClassifier( estimators= [('classifier2',classifier2),('classifier1',classifier1),('nn', nn)], voting = 'hard')\n",
    "\n",
    "evc.fit(X_train,Y_train)\n",
    "score=evc.score(X_test, Y_test)\n",
    "print(score)\n",
    "score1=evc.score(USPSTest, USPSTar)\n",
    "print(score1)\n",
    "\n",
    "\n",
    "\n",
    "# 0.976\n",
    "# 0.3074536531"
   ]
  },
  {
   "cell_type": "code",
   "execution_count": null,
   "metadata": {},
   "outputs": [],
   "source": [
    "\n",
    "\n",
    "def oneHotIt(Y):\n",
    "    hotvector=keras.utils.to_categorical(Y,10)\n",
    "    return hotvector\n",
    "\n",
    "\n",
    "def softmax(z):\n",
    "    z -= np.max(z)\n",
    "    sm = (np.exp(z).T / np.sum(np.exp(z),axis=1)).T\n",
    "    return sm\n",
    "\n",
    "def getProbsAndPreds(someX):\n",
    "    probs = softmax(np.dot(someX,w))\n",
    "    preds = np.argmax(probs,axis=1)\n",
    "    return probs,preds\n",
    "\n",
    "\n",
    "def getLoss(w,x,y,lam):\n",
    "    m = x.shape[0] \n",
    "    y_mat = oneHotIt(y) \n",
    "    scores = np.dot(x,w)\n",
    "    prob = softmax(scores) \n",
    "    loss = (-1 / m) * np.sum(y_mat * np.log(prob)) + (lam/2)*np.sum(w*w) \n",
    "    grad = (-1 / m) * np.dot(x.T,(y_mat - prob)) + lam*w \n",
    "    return loss,grad\n",
    "\n",
    "\n",
    "def getAccuracy(someX,someY):\n",
    "    prob,prede = getProbsAndPreds(someX)\n",
    "    accuracy = sum(prede == someY)/(float(len(someY)))\n",
    "    return accuracy\n",
    "\n",
    "\n",
    "w = np.zeros([Training_Data.shape[1],len(np.unique(Training_Target))])\n",
    "lam = 0.1\n",
    "iterations = 2500\n",
    "learningRate = 0.1\n",
    "losses = []\n",
    "for i in range(0,iterations):\n",
    "    loss,grad = getLoss(w,Training_Data,Training_Target,lam)\n",
    "    losses.append(loss)\n",
    "    w = w - (learningRate * grad)\n",
    "print ('Training Accuracy: ', getAccuracy(train_X,train_t)*100)\n",
    "print ('Validation Accuracy: ', getAccuracy(val_X,val_t)*100)\n",
    "print ('Test Accuracy: ', getAccuracy(test_X,test_t)*100)\n",
    "print ('USPS Accuracy: ', getAccuracy(USPSTest,USPSTar)*100)\n",
    "\n",
    "\n",
    "\n",
    "# Training Accuracy:  85.874\n",
    "# Validation Accuracy:  87.56\n",
    "# Test Accuracy:  87.05\n",
    "# USPS Accuracy:  33.621\n"
   ]
  }
 ],
 "metadata": {
  "kernelspec": {
   "display_name": "Python 3",
   "language": "python",
   "name": "python3"
  },
  "language_info": {
   "codemirror_mode": {
    "name": "ipython",
    "version": 3
   },
   "file_extension": ".py",
   "mimetype": "text/x-python",
   "name": "python",
   "nbconvert_exporter": "python",
   "pygments_lexer": "ipython3",
   "version": "3.6.6"
  }
 },
 "nbformat": 4,
 "nbformat_minor": 2
}
