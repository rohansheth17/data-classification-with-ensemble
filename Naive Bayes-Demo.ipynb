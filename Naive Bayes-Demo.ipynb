{
 "cells": [
  {
   "cell_type": "code",
   "execution_count": 1,
   "metadata": {},
   "outputs": [],
   "source": [
    "data = [line.strip().split('\\t') for line in open('project3_dataset4.txt', 'r')]"
   ]
  },
  {
   "cell_type": "code",
   "execution_count": 2,
   "metadata": {},
   "outputs": [
    {
     "name": "stdout",
     "output_type": "stream",
     "text": [
      "[['sunny' 'hot' 'high' 'weak' '0']\n",
      " ['sunny' 'hot' 'high' 'strong' '0']\n",
      " ['overcast' 'hot' 'high' 'weak' '1']\n",
      " ['rain' 'mild' 'high' 'weak' '1']\n",
      " ['rain' 'cool' 'normal' 'weak' '1']\n",
      " ['rain' 'cool' 'normal' 'strong' '0']\n",
      " ['overcast' 'cool' 'normal' 'strong' '1']\n",
      " ['sunny' 'mild' 'high' 'weak' '0']\n",
      " ['sunny' 'cool' 'normal' 'weak' '1']\n",
      " ['rain' 'mild' 'normal' 'weak' '1']\n",
      " ['sunny' 'mild' 'normal' 'strong' '1']\n",
      " ['overcast' 'mild' 'high' 'strong' '1']\n",
      " ['overcast' 'hot' 'normal' 'weak' '1']\n",
      " ['rain' 'mild' 'high' 'strong' '0']]\n",
      "[[0]\n",
      " [0]\n",
      " [1]\n",
      " [1]\n",
      " [1]\n",
      " [0]\n",
      " [1]\n",
      " [0]\n",
      " [1]\n",
      " [1]\n",
      " [1]\n",
      " [1]\n",
      " [1]\n",
      " [0]]\n",
      "[['sunny' 'hot' 'high' 'weak']\n",
      " ['sunny' 'hot' 'high' 'strong']\n",
      " ['overcast' 'hot' 'high' 'weak']\n",
      " ['rain' 'mild' 'high' 'weak']\n",
      " ['rain' 'cool' 'normal' 'weak']\n",
      " ['rain' 'cool' 'normal' 'strong']\n",
      " ['overcast' 'cool' 'normal' 'strong']\n",
      " ['sunny' 'mild' 'high' 'weak']\n",
      " ['sunny' 'cool' 'normal' 'weak']\n",
      " ['rain' 'mild' 'normal' 'weak']\n",
      " ['sunny' 'mild' 'normal' 'strong']\n",
      " ['overcast' 'mild' 'high' 'strong']\n",
      " ['overcast' 'hot' 'normal' 'weak']\n",
      " ['rain' 'mild' 'high' 'strong']]\n"
     ]
    }
   ],
   "source": [
    "import numpy as np\n",
    "import math\n",
    "data = np.asarray(data)\n",
    "print(data)\n",
    "classlabels = data[:,-1].reshape((data.shape[0],1)).astype(int)\n",
    "data = data[:,0:-1]\n",
    "print(classlabels)\n",
    "print(data)"
   ]
  },
  {
   "cell_type": "code",
   "execution_count": 3,
   "metadata": {},
   "outputs": [],
   "source": [
    "def is_categorical(s):\n",
    "    try:\n",
    "        float(s)\n",
    "    except ValueError:\n",
    "        return True\n",
    "    return False"
   ]
  },
  {
   "cell_type": "code",
   "execution_count": 4,
   "metadata": {},
   "outputs": [
    {
     "name": "stdout",
     "output_type": "stream",
     "text": [
      "sunny\n",
      "0\n",
      "hot\n",
      "1\n",
      "high\n",
      "2\n",
      "weak\n",
      "3\n",
      "[[2. 1. 0. 1. 0.]\n",
      " [2. 1. 0. 0. 0.]\n",
      " [0. 1. 0. 1. 1.]\n",
      " [1. 2. 0. 1. 1.]\n",
      " [1. 0. 1. 1. 1.]\n",
      " [1. 0. 1. 0. 0.]\n",
      " [0. 0. 1. 0. 1.]\n",
      " [2. 2. 0. 1. 0.]\n",
      " [2. 0. 1. 1. 1.]\n",
      " [1. 2. 1. 1. 1.]\n",
      " [2. 2. 1. 0. 1.]\n",
      " [0. 2. 0. 0. 1.]\n",
      " [0. 1. 1. 1. 1.]\n",
      " [1. 2. 0. 0. 0.]]\n"
     ]
    }
   ],
   "source": [
    "strindex = []\n",
    "for i in range(len(data[0])):\n",
    "    if is_categorical(data[0][i]):\n",
    "        print(data[0][i])\n",
    "        print(i)\n",
    "        strindex.append(i)\n",
    "for i in strindex:\n",
    "    unique_vals = np.unique(data[:,i])\n",
    "    mapping = list(range(len(unique_vals)))\n",
    "    dictionary = dict(zip(unique_vals, mapping))\n",
    "    for j in range(len(data[:,i])):\n",
    "        data[j][i] = dictionary.get(data[j][i])\n",
    "\n",
    "data = data.astype(float)\n",
    "data = np.append(data,classlabels,axis=1)\n",
    "print(data)"
   ]
  },
  {
   "cell_type": "code",
   "execution_count": 5,
   "metadata": {},
   "outputs": [
    {
     "name": "stdout",
     "output_type": "stream",
     "text": [
      "(14, 5)\n"
     ]
    }
   ],
   "source": [
    "print(data.shape)"
   ]
  },
  {
   "cell_type": "code",
   "execution_count": 6,
   "metadata": {},
   "outputs": [],
   "source": [
    "def split(kfoldlist,index):\n",
    "    test = kfoldlist[index]\n",
    "    train = np.vstack([j for i,j in enumerate(kfoldlist) if i != index])\n",
    "    train = np.asarray(train)\n",
    "    test = np.asarray(test)\n",
    "    return train, test\n",
    "\n",
    "def calculate_prob(mean,std,test_data):\n",
    "    prob = test_data[:,0:-1] - mean\n",
    "    prob = np.multiply(prob,prob)\n",
    "    prob = (-1 * prob)/(2 * np.multiply(std,std))\n",
    "    prob = np.exp(prob)\n",
    "    prob = prob/(((math.pi*2)*std)**0.5)\n",
    "    prob = np.prod(prob, axis = 1)\n",
    "    return prob\n",
    "\n",
    "def remove_categorical(data, strindices):\n",
    "    tempdata = np.asarray([data[:,i] for i in range(len(data[0])) if i not in strindices])\n",
    "    tempdata = np.transpose(tempdata)\n",
    "    return tempdata\n"
   ]
  },
  {
   "cell_type": "code",
   "execution_count": 7,
   "metadata": {},
   "outputs": [],
   "source": [
    "def evaluate(actual, predicted):\n",
    "    #a = TP, b = FN, c= FP, d= TN \n",
    "    a = b = c = d = 0\n",
    "    for i in range(len(actual)):\n",
    "        if(actual[i] == 1 and predicted[i] == 1):\n",
    "            a += 1\n",
    "        elif(actual[i] == 1 and predicted[i] == 0):\n",
    "            b += 1\n",
    "        elif(actual[i] == 0 and predicted[i] == 1):\n",
    "            c += 1\n",
    "        elif(actual[i] == 0 and predicted[i] == 0):\n",
    "            d += 1\n",
    "    return a, b, c, d"
   ]
  },
  {
   "cell_type": "code",
   "execution_count": 8,
   "metadata": {},
   "outputs": [
    {
     "name": "stdout",
     "output_type": "stream",
     "text": [
      "(14, 5)\n",
      "(1, 4)\n"
     ]
    }
   ],
   "source": [
    "train = data\n",
    "test = np.asarray([2,0,0,1])   # [2,0,0,1]=[sunny, cool, high, weak]\n",
    "test = test.astype(float).reshape(1,test.shape[0])\n",
    "print(train.shape)\n",
    "print(test.shape)"
   ]
  },
  {
   "cell_type": "code",
   "execution_count": 9,
   "metadata": {},
   "outputs": [
    {
     "name": "stdout",
     "output_type": "stream",
     "text": [
      "1\n"
     ]
    }
   ],
   "source": [
    "test_labels = []\n",
    "label_zeros = []\n",
    "label_ones = []\n",
    "for j in range(len(train)):\n",
    "    if(int(train[j,-1]) == 1):\n",
    "        label_ones.append(train[j,:])\n",
    "    elif(int(train[j,-1]) == 0):\n",
    "        label_zeros.append(train[j,:])\n",
    "label_zeros = np.asarray(label_zeros)\n",
    "label_ones = np.asarray(label_ones)\n",
    "\n",
    "# Calculating Prior class probabilites\n",
    "prior0 = float(list(train[:,-1]).count(0))/len(train)\n",
    "prior1 = float(list(train[:,-1]).count(1))/len(train)\n",
    "train_minus_cat = remove_categorical(train, strindex)\n",
    "test_minus_cat = remove_categorical(test, strindex)\n",
    "mean0 = np.mean([row[0:-1] for row in train_minus_cat if row[-1] == 0],axis = 0)\n",
    "mean1 = np.mean([row[0:-1] for row in train_minus_cat if row[-1] == 1], axis = 0)\n",
    "std0 = np.std([row[0:-1] for row in train_minus_cat if row[-1] == 0],axis = 0)\n",
    "std1 = np.std([row[0:-1] for row in train_minus_cat if row[-1] == 1], axis = 0)\n",
    "\n",
    "#for categorical attributes\n",
    "if(len(strindex) != 0):\n",
    "    cat_prior0 = dict() \n",
    "    cat_prior1 = dict()\n",
    "    for j in strindex:\n",
    "        cat_prior0[j] = dict()\n",
    "        cat_prior1[j] = dict()\n",
    "        for k in np.unique(train[:,j]):\n",
    "            nlabels0 = list(label_zeros[:,-1].astype(int)).count(0)\n",
    "            nlabels1 = list(label_ones[:,-1].astype(int)).count(1)                 \n",
    "            cat_prior0[j][k] = float(list(label_zeros[:,j]).count(k))/nlabels0\n",
    "            cat_prior1[j][k] = float(list(label_ones[:,j]).count(k))/nlabels1 \n",
    "catprob0 = np.zeros(test.shape[0])\n",
    "catprob1 = np.zeros(test.shape[0])\n",
    "catprob0.fill(1.0)\n",
    "catprob1.fill(1.0)\n",
    "\n",
    "if(len(strindex) != 0):\n",
    "    for t in range(len(test)):\n",
    "        for s in strindex:\n",
    "            catprob0[t] *= cat_prior0[s][test[t][s]]\n",
    "            catprob1[t] *= cat_prior1[s][test[t][s]]\n",
    "\n",
    "#Calculating final probabilities for the test sample            \n",
    "prob0 = (prior0 * catprob0) #/((prior0 * catprob0)+(prior1 * catprob1))\n",
    "prob1 = (prior1 * catprob1) #/((prior0 * catprob0)+(prior1 * catprob1))\n",
    "\n",
    "test_labels = [1 if prob1[i] > prob0[i] else 0 for i in range(len(test))]\n",
    "print(len(test_labels))\n",
    "\n",
    "test_labels = np.asarray(test_labels)"
   ]
  },
  {
   "cell_type": "code",
   "execution_count": 10,
   "metadata": {},
   "outputs": [
    {
     "name": "stdout",
     "output_type": "stream",
     "text": [
      "[0.01058201]\n",
      "[0.01371429]\n"
     ]
    }
   ],
   "source": [
    "print(prob1)\n",
    "print(prob0)"
   ]
  }
 ],
 "metadata": {
  "kernelspec": {
   "display_name": "Python 3",
   "language": "python",
   "name": "python3"
  },
  "language_info": {
   "codemirror_mode": {
    "name": "ipython",
    "version": 3
   },
   "file_extension": ".py",
   "mimetype": "text/x-python",
   "name": "python",
   "nbconvert_exporter": "python",
   "pygments_lexer": "ipython3",
   "version": "3.6.8"
  }
 },
 "nbformat": 4,
 "nbformat_minor": 2
}
